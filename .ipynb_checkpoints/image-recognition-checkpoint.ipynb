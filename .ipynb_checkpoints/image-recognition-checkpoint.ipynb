{
 "cells": [
  {
   "cell_type": "code",
   "execution_count": 1,
   "metadata": {},
   "outputs": [
    {
     "name": "stderr",
     "output_type": "stream",
     "text": [
      "c:\\python36\\lib\\site-packages\\h5py\\__init__.py:36: FutureWarning: Conversion of the second argument of issubdtype from `float` to `np.floating` is deprecated. In future, it will be treated as `np.float64 == np.dtype(float).type`.\n",
      "  from ._conv import register_converters as _register_converters\n"
     ]
    }
   ],
   "source": [
    "import tensorflow as tf\n",
    "import numpy as np\n",
    "import matplotlib.pyplot as plt\n",
    "%matplotlib inline"
   ]
  },
  {
   "cell_type": "code",
   "execution_count": 2,
   "metadata": {},
   "outputs": [],
   "source": [
    "sess = tf.InteractiveSession()"
   ]
  },
  {
   "cell_type": "code",
   "execution_count": 3,
   "metadata": {},
   "outputs": [],
   "source": [
    "from libs import inception"
   ]
  },
  {
   "cell_type": "code",
   "execution_count": 4,
   "metadata": {},
   "outputs": [
    {
     "name": "stdout",
     "output_type": "stream",
     "text": [
      "Downloading https://s3.amazonaws.com/cadl/models/inception5h.zip\n",
      "Downloaded 47.50/47.62 MB\r"
     ]
    }
   ],
   "source": [
    "net = inception.get_inception_model()"
   ]
  },
  {
   "cell_type": "code",
   "execution_count": 5,
   "metadata": {},
   "outputs": [],
   "source": [
    "tf.import_graph_def(net['graph_def'], name='inception')"
   ]
  },
  {
   "cell_type": "code",
   "execution_count": 9,
   "metadata": {},
   "outputs": [
    {
     "data": {
      "text/plain": [
       "[(0, 'dummy'),\n",
       " (1, 'kit fox'),\n",
       " (2, 'English setter'),\n",
       " (3, 'Siberian husky'),\n",
       " (4, 'Australian terrier'),\n",
       " (5, 'English springer'),\n",
       " (6, 'grey whale'),\n",
       " (7, 'lesser panda'),\n",
       " (8, 'Egyptian cat'),\n",
       " (9, 'ibex'),\n",
       " (10, 'Persian cat'),\n",
       " (11, 'cougar'),\n",
       " (12, 'gazelle'),\n",
       " (13, 'porcupine'),\n",
       " (14, 'sea lion'),\n",
       " (15, 'malamute'),\n",
       " (16, 'badger'),\n",
       " (17, 'Great Dane'),\n",
       " (18, 'Walker hound'),\n",
       " (19, 'Welsh springer spaniel'),\n",
       " (20, 'whippet'),\n",
       " (21, 'Scottish deerhound'),\n",
       " (22, 'killer whale'),\n",
       " (23, 'mink'),\n",
       " (24, 'African elephant')]"
      ]
     },
     "execution_count": 9,
     "metadata": {},
     "output_type": "execute_result"
    }
   ],
   "source": [
    "# printing 25 of 1000 labels\n",
    "net['labels'][:25]"
   ]
  },
  {
   "cell_type": "code",
   "execution_count": null,
   "metadata": {},
   "outputs": [],
   "source": []
  }
 ],
 "metadata": {
  "kernelspec": {
   "display_name": "Python 3",
   "language": "python",
   "name": "python3"
  },
  "language_info": {
   "codemirror_mode": {
    "name": "ipython",
    "version": 3
   },
   "file_extension": ".py",
   "mimetype": "text/x-python",
   "name": "python",
   "nbconvert_exporter": "python",
   "pygments_lexer": "ipython3",
   "version": "3.6.4"
  }
 },
 "nbformat": 4,
 "nbformat_minor": 2
}
